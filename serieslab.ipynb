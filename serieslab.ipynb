{
 "cells": [
  {
   "cell_type": "markdown",
   "id": "687b4319",
   "metadata": {},
   "source": [
    "# lab-3: pandas series"
   ]
  },
  {
   "cell_type": "code",
   "execution_count": 25,
   "id": "1b389801",
   "metadata": {},
   "outputs": [],
   "source": [
    "import pandas as pd\n",
    "import numpy as np"
   ]
  },
  {
   "cell_type": "code",
   "execution_count": 26,
   "id": "0699aed2",
   "metadata": {},
   "outputs": [],
   "source": [
    "#a)\tTo add, subtract, multiple and divide two pandas Series."
   ]
  },
  {
   "cell_type": "code",
   "execution_count": 27,
   "id": "8dfc7fa4",
   "metadata": {
    "collapsed": true
   },
   "outputs": [
    {
     "name": "stdout",
     "output_type": "stream",
     "text": [
      "addition:\n",
      " a    12\n",
      "b    24\n",
      "c    36\n",
      "dtype: int64\n",
      "subtraction:\n",
      " a     8\n",
      "b    16\n",
      "c    24\n",
      "dtype: int64\n",
      "multiplication:\n",
      " a     20\n",
      "b     80\n",
      "c    180\n",
      "dtype: int64\n",
      "division:\n",
      " a    5.0\n",
      "b    5.0\n",
      "c    5.0\n",
      "dtype: float64\n"
     ]
    }
   ],
   "source": [
    "dict1= {'a': 10, 'b':20, 'c': 30}\n",
    "s1=pd.Series(dict)#using dictionary\n",
    "a=np.array([2,4,6])\n",
    "s2=pd.Series(a,index=['a','b','c'])#using numpy array specify index explicxitly\n",
    "print(\"addition:\\n\",s1+s2)\n",
    "print(\"subtraction:\\n\",s1-s2)\n",
    "print(\"multiplication:\\n\",s1*s2)\n",
    "print(\"division:\\n\",s1/s2)"
   ]
  },
  {
   "cell_type": "markdown",
   "id": "b5192733",
   "metadata": {},
   "source": [
    "#b)\tTo convert all the string values to upper, lower cases in a given pandas series. Also find the length of the string values."
   ]
  },
  {
   "cell_type": "code",
   "execution_count": 42,
   "id": "3a349e7b",
   "metadata": {
    "collapsed": true
   },
   "outputs": [
    {
     "name": "stdout",
     "output_type": "stream",
     "text": [
      "p1        a\n",
      "p2        b\n",
      "p3      aba\n",
      "p4      bab\n",
      "p5    ababa\n",
      "dtype: object \n",
      "\n",
      "p1        A\n",
      "p2        B\n",
      "p3      ABA\n",
      "p4      BAB\n",
      "p5    ABABA\n",
      "dtype: object\n",
      "p1    1\n",
      "p2    1\n",
      "p3    3\n",
      "p4    3\n",
      "p5    5\n",
      "dtype: int64\n"
     ]
    }
   ],
   "source": [
    "#string methods\n",
    "a=np.array([\"a\",\"b\",\"aba\",\"BAB\",\"Ababa\"])\n",
    "s=pd.Series(a,index=[\"p1\",\"p2\",\"p3\",\"p4\",\"p5\"])\n",
    "print(s.str.lower(),\"\\n\")\n",
    "print(s.str.upper())\n",
    "print(s.str.len())"
   ]
  },
  {
   "cell_type": "markdown",
   "id": "7c7ba18c",
   "metadata": {},
   "source": [
    "#c)\tTo remove whitespaces, left sided whitespaces and right sided whitespaces of the string values of a given pandas series."
   ]
  },
  {
   "cell_type": "code",
   "execution_count": 43,
   "id": "4b1a3692",
   "metadata": {
    "collapsed": true
   },
   "outputs": [
    {
     "name": "stdout",
     "output_type": "stream",
     "text": [
      "Index(['  jack', 'jill   ', 'jesse   ', '   frank'], dtype='object')\n",
      "Index(['  jack', 'jill', 'jesse', '   frank'], dtype='object')\n",
      "Index(['jack', 'jill   ', 'jesse   ', 'frank'], dtype='object')\n",
      "\n",
      "\n",
      "\n",
      "Index(['  jack  ', '  jill   ', 'jesse', '  frank'], dtype='object')\n",
      "Index(['jack', 'jill', 'jesse', 'frank'], dtype='object')\n"
     ]
    }
   ],
   "source": [
    "idx=pd.Index([\"  jack\",\"jill   \",\"jesse   \",\"   frank\"])\n",
    "print(idx)\n",
    "print(idx.str.rstrip())\n",
    "print(idx.str.lstrip())\n",
    "print(\"\\n\\n\")\n",
    "idx=pd.Index([\"  jack  \",\"  jill   \",\"jesse\",\"  frank\"])\n",
    "print(idx)\n",
    "print(idx.str.strip())"
   ]
  },
  {
   "cell_type": "markdown",
   "id": "7e033c27",
   "metadata": {},
   "source": [
    "#d)\tTo create a series from a list, numpy array and dict"
   ]
  },
  {
   "cell_type": "code",
   "execution_count": 53,
   "id": "9d344326",
   "metadata": {
    "collapsed": true
   },
   "outputs": [
    {
     "name": "stdout",
     "output_type": "stream",
     "text": [
      "0    100\n",
      "1    200\n",
      "2    201\n",
      "3    325\n",
      "dtype: int32\n",
      "id1    100\n",
      "id2    200\n",
      "id3    201\n",
      "id4    325\n",
      "dtype: int32\n",
      "id1    NaN\n",
      "id2    NaN\n",
      "id3    NaN\n",
      "id4    NaN\n",
      "dtype: object\n"
     ]
    }
   ],
   "source": [
    "array=np.array([100,200,201,325])\n",
    "print(pd.Series(array))#default index 0,1,2....\n",
    "print(pd.Series(array,index=[\"id1\",\"id2\",\"id3\",\"id4\"]))#explicit index\n",
    "print(pd.Series({\"k1\":\"v1\",\"k2\":\"v2\",\"k3\":\"v3\"},index=[\"id1\",\"id2\",\"id3\",\"id4\"]))#explicit index overwrites implicit"
   ]
  },
  {
   "cell_type": "markdown",
   "id": "477d4975",
   "metadata": {},
   "source": [
    "#e)\tTo calculate the number of characters in each word in a series."
   ]
  },
  {
   "cell_type": "code",
   "execution_count": 54,
   "id": "fccf59b5",
   "metadata": {
    "collapsed": true
   },
   "outputs": [
    {
     "name": "stdout",
     "output_type": "stream",
     "text": [
      "p1     7\n",
      "p2     8\n",
      "p3     2\n",
      "p4     6\n",
      "p5    11\n",
      "dtype: int64\n"
     ]
    }
   ],
   "source": [
    "a=np.array([\"privacy\",\"security\",\"in\",\"online\",\"socialmedia\"])\n",
    "s=pd.Series(a,index=[\"p1\",\"p2\",\"p3\",\"p4\",\"p5\"])\n",
    "print(s.str.len())"
   ]
  },
  {
   "cell_type": "markdown",
   "id": "1c4f6411",
   "metadata": {},
   "source": [
    "#f)\tTo compare the elements of the two Pandas Series. "
   ]
  },
  {
   "cell_type": "code",
   "execution_count": 61,
   "id": "30d23828",
   "metadata": {
    "collapsed": true
   },
   "outputs": [
    {
     "name": "stdout",
     "output_type": "stream",
     "text": [
      "0    False\n",
      "1    False\n",
      "2    False\n",
      "3    False\n",
      "4     True\n",
      "dtype: bool\n",
      "False\n"
     ]
    }
   ],
   "source": [
    "s1=pd.Series([2, 4, 6, 8, 10])\n",
    "s2=pd.Series([1, 3, 5, 7, 10])\n",
    "print(s1.eq(s2))#for each element\n",
    "print(s1.equals(s2))#entire series\n",
    "#other functions gt,lt,ge,le"
   ]
  },
  {
   "cell_type": "markdown",
   "id": "b5115fae",
   "metadata": {},
   "source": [
    "#g)\tTo convert a Panda module Series to Python list and it’s type"
   ]
  },
  {
   "cell_type": "code",
   "execution_count": 74,
   "id": "de7ec5c6",
   "metadata": {
    "collapsed": true
   },
   "outputs": [
    {
     "name": "stdout",
     "output_type": "stream",
     "text": [
      "<class 'list'> [2, 4, 6, 8, 10]\n"
     ]
    }
   ],
   "source": [
    "s=pd.Series([2, 4, 6, 8, 10])\n",
    "print(type(list(s)),s.tolist())"
   ]
  },
  {
   "cell_type": "markdown",
   "id": "1e85faed",
   "metadata": {},
   "source": [
    "#d,h bits same"
   ]
  },
  {
   "cell_type": "markdown",
   "id": "121dd7c4",
   "metadata": {},
   "source": [
    "#i)\tTo Combine many series to form a dataframe"
   ]
  },
  {
   "cell_type": "code",
   "execution_count": 104,
   "id": "89b5ab56",
   "metadata": {},
   "outputs": [
    {
     "name": "stdout",
     "output_type": "stream",
     "text": [
      "     0     1   2\n",
      "0  daa  1000  20\n",
      "1   da  1200  10\n",
      "2   or   390  30\n",
      "3  afl  1500  50\n"
     ]
    }
   ],
   "source": [
    "course=pd.Series([\"daa\",\"da\",\"or\",\"afl\"])\n",
    "fee=pd.Series([1000,1200,390,1500])\n",
    "duration=pd.Series([20,10,30,50])\n",
    "courses=pd.concat([course,fee,duration],axis=1)\n",
    "print(courses)"
   ]
  },
  {
   "cell_type": "markdown",
   "id": "6c1616de",
   "metadata": {},
   "source": [
    "#j)\tto stack two series vertically and horizontally"
   ]
  },
  {
   "cell_type": "code",
   "execution_count": 106,
   "id": "211ce3a6",
   "metadata": {},
   "outputs": [
    {
     "name": "stdout",
     "output_type": "stream",
     "text": [
      "     0     1\n",
      "0  daa  1000\n",
      "1   da  1200\n",
      "2   or   390\n",
      "3  afl  1500\n",
      "0     daa\n",
      "1      da\n",
      "2      or\n",
      "3     afl\n",
      "0    1000\n",
      "1    1200\n",
      "2     390\n",
      "3    1500\n",
      "dtype: object\n"
     ]
    }
   ],
   "source": [
    "course=pd.Series([\"daa\",\"da\",\"or\",\"afl\"])\n",
    "fee=pd.Series([1000,1200,390,1500])\n",
    "courses=pd.concat([course,fee],axis=1)#horizontal stack axis=1\n",
    "print(courses)\n",
    "courses=pd.concat([course,fee],axis=0)#vertical stack axis=1\n",
    "print(courses)\n"
   ]
  },
  {
   "cell_type": "markdown",
   "id": "959edfeb",
   "metadata": {},
   "source": [
    "#k)\tTo create and display a DataFrame from a specified dictionary data which has the index labels."
   ]
  },
  {
   "cell_type": "code",
   "execution_count": 113,
   "id": "e71a5ee3",
   "metadata": {},
   "outputs": [
    {
     "name": "stdout",
     "output_type": "stream",
     "text": [
      "      persons                theories\n",
      "0  j.b.watson           psychologylab\n",
      "1     ausubel     meaningful learning\n",
      "2      bruner      discovery learning\n",
      "3     bandura  observational learning\n"
     ]
    }
   ],
   "source": [
    "d={\"persons\":[\"j.b.watson\",\"ausubel\",\"bruner\",\"bandura\"],\n",
    "   \"theories\":[\"psychologylab\",\"meaningful learning\",\"discovery learning\",\"observational learning\"]}\n",
    "df=pd.DataFrame(d)\n",
    "print(df)"
   ]
  },
  {
   "cell_type": "code",
   "execution_count": null,
   "id": "c0f08d53",
   "metadata": {},
   "outputs": [],
   "source": []
  }
 ],
 "metadata": {
  "kernelspec": {
   "display_name": "Python 3 (ipykernel)",
   "language": "python",
   "name": "python3"
  },
  "language_info": {
   "codemirror_mode": {
    "name": "ipython",
    "version": 3
   },
   "file_extension": ".py",
   "mimetype": "text/x-python",
   "name": "python",
   "nbconvert_exporter": "python",
   "pygments_lexer": "ipython3",
   "version": "3.11.3"
  }
 },
 "nbformat": 4,
 "nbformat_minor": 5
}
