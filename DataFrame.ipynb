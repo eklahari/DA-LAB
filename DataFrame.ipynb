{
 "cells": [
  {
   "cell_type": "markdown",
   "id": "bd93bed5",
   "metadata": {},
   "source": [
    "# DataFrames_Dataset_4thQuestion"
   ]
  },
  {
   "cell_type": "markdown",
   "id": "8838736c",
   "metadata": {},
   "source": [
    "# I.\timport and read a CSV file"
   ]
  },
  {
   "cell_type": "code",
   "execution_count": 172,
   "id": "5a2e390e",
   "metadata": {},
   "outputs": [],
   "source": [
    "import pandas as pd\n",
    "import numpy as np"
   ]
  },
  {
   "cell_type": "code",
   "execution_count": 162,
   "id": "6194c630",
   "metadata": {
    "collapsed": true
   },
   "outputs": [
    {
     "name": "stdout",
     "output_type": "stream",
     "text": [
      "   customer_id  year_of_birth  educational_level marital_status  \\\n",
      "0     20201701            1982        Graduation         Single   \n",
      "1     20201702            1950        Graduation        Married   \n",
      "2     20201703            1965        Graduation       Divorced   \n",
      "3     20201704            1984        Graduation   Relationship   \n",
      "4     20201705            1981               PhD        Widowed   \n",
      "\n",
      "   annual_income        purhcase_date  recency  online_purchases  \\\n",
      "0        58138.0  2012-04-09 00:00:00       58                 8   \n",
      "1        46344.0  2014-08-03 00:00:00       38                 1   \n",
      "2        71613.0            8/21/2013       26                 8   \n",
      "3        26646.0  2014-10-02 00:00:00       26                 2   \n",
      "4        58293.0            1/19/2014       94                 5   \n",
      "\n",
      "   store_purchases  complaints  calls  intercoms  \n",
      "0                4           0      3         11  \n",
      "1                2           0      3         11  \n",
      "2               10           0      3         11  \n",
      "3                4           0      3         11  \n",
      "4                6           0      3         11  \n"
     ]
    }
   ],
   "source": [
    "df= pd.read_excel(r'C:\\Users\\Samsung\\Documents\\5 th semester subjects\\DA\\datasets\\DataFrames_Dataset_4thQuestion.xlsx')\n",
    "print (df.head()) "
   ]
  },
  {
   "cell_type": "markdown",
   "id": "f0181c59",
   "metadata": {},
   "source": [
    "# II.\tTo Generate a basic understanding of a given data."
   ]
  },
  {
   "cell_type": "markdown",
   "id": "55c66706",
   "metadata": {},
   "source": [
    "2.aPrint First 5 rows, last 5 rows of data "
   ]
  },
  {
   "cell_type": "code",
   "execution_count": 10,
   "id": "c2d5ad86",
   "metadata": {
    "collapsed": true
   },
   "outputs": [
    {
     "name": "stdout",
     "output_type": "stream",
     "text": [
      "first 5 rows \n",
      "    customer_id  year_of_birth  educational_level marital_status  \\\n",
      "0     20201701            1982        Graduation         Single   \n",
      "1     20201702            1950        Graduation        Married   \n",
      "2     20201703            1965        Graduation       Divorced   \n",
      "3     20201704            1984        Graduation   Relationship   \n",
      "4     20201705            1981               PhD        Widowed   \n",
      "\n",
      "   annual_income        purhcase_date  recency  online_purchases  \\\n",
      "0        58138.0  2012-04-09 00:00:00       58                 8   \n",
      "1        46344.0  2014-08-03 00:00:00       38                 1   \n",
      "2        71613.0            8/21/2013       26                 8   \n",
      "3        26646.0  2014-10-02 00:00:00       26                 2   \n",
      "4        58293.0            1/19/2014       94                 5   \n",
      "\n",
      "   store_purchases  complaints  calls  intercoms  \n",
      "0                4           0      3         11  \n",
      "1                2           0      3         11  \n",
      "2               10           0      3         11  \n",
      "3                4           0      3         11  \n",
      "4                6           0      3         11  \n",
      "last 5 rows \n",
      "      customer_id  year_of_birth  educational_level marital_status  \\\n",
      "494     20202195            1944               PhD       Divorced   \n",
      "495     20202196            1962            Master       Divorced   \n",
      "496     20202197            1978        Graduation       Divorced   \n",
      "497     20202198            1971               PhD   Relationship   \n",
      "498     20202199            1949               PhD   Relationship   \n",
      "\n",
      "     annual_income        purhcase_date  recency  online_purchases  \\\n",
      "494        55614.0           11/27/2013       85                 9   \n",
      "495        59432.0            4/13/2013       88                 5   \n",
      "496        55563.0  2014-05-04 00:00:00       22                 2   \n",
      "497        43624.0            4/21/2013       83                 4   \n",
      "498        41461.0            5/22/2014       63                 6   \n",
      "\n",
      "     store_purchases  complaints  calls  intercoms  \n",
      "494                6           0      3         11  \n",
      "495               11           0      3         11  \n",
      "496                3           0      3         11  \n",
      "497                4           0      6         11  \n",
      "498               11           0      6         11  \n"
     ]
    }
   ],
   "source": [
    "print(\"first 5 rows \\n\",df.head())\n",
    "print(\"last 5 rows \\n\",df.tail())"
   ]
  },
  {
   "cell_type": "markdown",
   "id": "3b65b597",
   "metadata": {},
   "source": [
    "2.bCheck the basic information of the data"
   ]
  },
  {
   "cell_type": "code",
   "execution_count": 11,
   "id": "e5eb0ecd",
   "metadata": {
    "collapsed": true
   },
   "outputs": [
    {
     "name": "stdout",
     "output_type": "stream",
     "text": [
      "<class 'pandas.core.frame.DataFrame'>\n",
      "RangeIndex: 499 entries, 0 to 498\n",
      "Data columns (total 12 columns):\n",
      " #   Column             Non-Null Count  Dtype  \n",
      "---  ------             --------------  -----  \n",
      " 0   customer_id        499 non-null    int64  \n",
      " 1   year_of_birth      499 non-null    int64  \n",
      " 2   educational_level  499 non-null    object \n",
      " 3   marital_status     499 non-null    object \n",
      " 4   annual_income      486 non-null    float64\n",
      " 5   purhcase_date      499 non-null    object \n",
      " 6   recency            499 non-null    int64  \n",
      " 7   online_purchases   499 non-null    int64  \n",
      " 8   store_purchases    499 non-null    int64  \n",
      " 9   complaints         499 non-null    int64  \n",
      " 10  calls              499 non-null    int64  \n",
      " 11  intercoms          499 non-null    int64  \n",
      "dtypes: float64(1), int64(8), object(3)\n",
      "memory usage: 46.9+ KB\n",
      "None\n"
     ]
    }
   ],
   "source": [
    "print(df.info())"
   ]
  },
  {
   "cell_type": "markdown",
   "id": "b9f66e37",
   "metadata": {},
   "source": [
    "2.c.Extract the shape of the data"
   ]
  },
  {
   "cell_type": "code",
   "execution_count": 18,
   "id": "ebf0fead",
   "metadata": {},
   "outputs": [
    {
     "name": "stdout",
     "output_type": "stream",
     "text": [
      "(499, 12)\n"
     ]
    }
   ],
   "source": [
    "print(df.shape)"
   ]
  },
  {
   "cell_type": "markdown",
   "id": "2cdbe3d7",
   "metadata": {},
   "source": [
    "2.d.Print  the unique values of the marital status field based on the  column "
   ]
  },
  {
   "cell_type": "code",
   "execution_count": 21,
   "id": "d30a13a7",
   "metadata": {},
   "outputs": [
    {
     "name": "stdout",
     "output_type": "stream",
     "text": [
      "['Single' 'Married' 'Divorced' 'Relationship' 'Widowed' 'Widow']\n"
     ]
    }
   ],
   "source": [
    "print(df.marital_status.unique())"
   ]
  },
  {
   "cell_type": "markdown",
   "id": "85e28109",
   "metadata": {},
   "source": [
    "2.e.To make it consistent data( widow and widowed )are two different naming for the same category on the column values"
   ]
  },
  {
   "cell_type": "code",
   "execution_count": 119,
   "id": "d4b45f8b",
   "metadata": {
    "collapsed": true
   },
   "outputs": [
    {
     "name": "stdout",
     "output_type": "stream",
     "text": [
      "0            Single\n",
      "1           Married\n",
      "2          Divorced\n",
      "3      Relationship\n",
      "4           Widowed\n",
      "           ...     \n",
      "494        Divorced\n",
      "495        Divorced\n",
      "496        Divorced\n",
      "497    Relationship\n",
      "498    Relationship\n",
      "Name: marital_status, Length: 499, dtype: object\n"
     ]
    }
   ],
   "source": [
    "df['marital_status'] = df['marital_status'].replace('Widow', 'Widowed')\n",
    "print(df['marital_status'])"
   ]
  },
  {
   "cell_type": "markdown",
   "id": "7d8feee2",
   "metadata": {},
   "source": [
    "2f.Check for duplicates and null values in the whole dataset"
   ]
  },
  {
   "cell_type": "code",
   "execution_count": 68,
   "id": "540e0bb4",
   "metadata": {
    "collapsed": true
   },
   "outputs": [
    {
     "name": "stdout",
     "output_type": "stream",
     "text": [
      "False\n",
      "customer_id          False\n",
      "year_of_birth        False\n",
      "educational_level    False\n",
      "marital_status       False\n",
      "annual_income         True\n",
      "purhcase_date        False\n",
      "recency              False\n",
      "online_purchases     False\n",
      "store_purchases      False\n",
      "complaints           False\n",
      "calls                False\n",
      "intercoms            False\n",
      "dtype: bool\n"
     ]
    }
   ],
   "source": [
    "print(df.duplicated().any())\n",
    "print(df.isnull().any())"
   ]
  },
  {
   "cell_type": "markdown",
   "id": "c947a864",
   "metadata": {},
   "source": [
    "# III.\tselect and filter data based on conditions"
   ]
  },
  {
   "cell_type": "markdown",
   "id": "146278c6",
   "metadata": {},
   "source": [
    "3.a.Select a subset of the data points(Birthdate, Education, and Income of every customer) from the data frame."
   ]
  },
  {
   "cell_type": "code",
   "execution_count": 81,
   "id": "9b3d037f",
   "metadata": {
    "collapsed": true
   },
   "outputs": [
    {
     "data": {
      "text/html": [
       "<div>\n",
       "<style scoped>\n",
       "    .dataframe tbody tr th:only-of-type {\n",
       "        vertical-align: middle;\n",
       "    }\n",
       "\n",
       "    .dataframe tbody tr th {\n",
       "        vertical-align: top;\n",
       "    }\n",
       "\n",
       "    .dataframe thead th {\n",
       "        text-align: right;\n",
       "    }\n",
       "</style>\n",
       "<table border=\"1\" class=\"dataframe\">\n",
       "  <thead>\n",
       "    <tr style=\"text-align: right;\">\n",
       "      <th></th>\n",
       "      <th>year_of_birth</th>\n",
       "      <th>educational_level</th>\n",
       "      <th>annual_income</th>\n",
       "    </tr>\n",
       "  </thead>\n",
       "  <tbody>\n",
       "    <tr>\n",
       "      <th>0</th>\n",
       "      <td>1982</td>\n",
       "      <td>Graduation</td>\n",
       "      <td>58138.0</td>\n",
       "    </tr>\n",
       "    <tr>\n",
       "      <th>1</th>\n",
       "      <td>1950</td>\n",
       "      <td>Graduation</td>\n",
       "      <td>46344.0</td>\n",
       "    </tr>\n",
       "    <tr>\n",
       "      <th>2</th>\n",
       "      <td>1965</td>\n",
       "      <td>Graduation</td>\n",
       "      <td>71613.0</td>\n",
       "    </tr>\n",
       "    <tr>\n",
       "      <th>3</th>\n",
       "      <td>1984</td>\n",
       "      <td>Graduation</td>\n",
       "      <td>26646.0</td>\n",
       "    </tr>\n",
       "    <tr>\n",
       "      <th>4</th>\n",
       "      <td>1981</td>\n",
       "      <td>PhD</td>\n",
       "      <td>58293.0</td>\n",
       "    </tr>\n",
       "    <tr>\n",
       "      <th>...</th>\n",
       "      <td>...</td>\n",
       "      <td>...</td>\n",
       "      <td>...</td>\n",
       "    </tr>\n",
       "    <tr>\n",
       "      <th>494</th>\n",
       "      <td>1944</td>\n",
       "      <td>PhD</td>\n",
       "      <td>55614.0</td>\n",
       "    </tr>\n",
       "    <tr>\n",
       "      <th>495</th>\n",
       "      <td>1962</td>\n",
       "      <td>Master</td>\n",
       "      <td>59432.0</td>\n",
       "    </tr>\n",
       "    <tr>\n",
       "      <th>496</th>\n",
       "      <td>1978</td>\n",
       "      <td>Graduation</td>\n",
       "      <td>55563.0</td>\n",
       "    </tr>\n",
       "    <tr>\n",
       "      <th>497</th>\n",
       "      <td>1971</td>\n",
       "      <td>PhD</td>\n",
       "      <td>43624.0</td>\n",
       "    </tr>\n",
       "    <tr>\n",
       "      <th>498</th>\n",
       "      <td>1949</td>\n",
       "      <td>PhD</td>\n",
       "      <td>41461.0</td>\n",
       "    </tr>\n",
       "  </tbody>\n",
       "</table>\n",
       "<p>499 rows × 3 columns</p>\n",
       "</div>"
      ],
      "text/plain": [
       "     year_of_birth  educational_level  annual_income\n",
       "0              1982        Graduation        58138.0\n",
       "1              1950        Graduation        46344.0\n",
       "2              1965        Graduation        71613.0\n",
       "3              1984        Graduation        26646.0\n",
       "4              1981               PhD        58293.0\n",
       "..              ...               ...            ...\n",
       "494            1944               PhD        55614.0\n",
       "495            1962            Master        59432.0\n",
       "496            1978        Graduation        55563.0\n",
       "497            1971               PhD        43624.0\n",
       "498            1949               PhD        41461.0\n",
       "\n",
       "[499 rows x 3 columns]"
      ]
     },
     "execution_count": 81,
     "metadata": {},
     "output_type": "execute_result"
    }
   ],
   "source": [
    "subset_data = df[['year_of_birth ','educational_level', 'annual_income']]\n",
    "subset_data"
   ]
  },
  {
   "cell_type": "markdown",
   "id": "84fe98c5",
   "metadata": {},
   "source": [
    "3.b.Using loc() and iloc() methods to retrieve the first seven data points\n"
   ]
  },
  {
   "cell_type": "code",
   "execution_count": 113,
   "id": "86b65889",
   "metadata": {
    "collapsed": true
   },
   "outputs": [
    {
     "name": "stdout",
     "output_type": "stream",
     "text": [
      "using loc()\n",
      "    customer_id  year_of_birth  educational_level marital_status  \\\n",
      "0     20201701            1982        Graduation         Single   \n",
      "1     20201702            1950        Graduation        Married   \n",
      "2     20201703            1965        Graduation       Divorced   \n",
      "3     20201704            1984        Graduation   Relationship   \n",
      "4     20201705            1981               PhD        Widowed   \n",
      "5     20201706            1967            Master   Relationship   \n",
      "6     20201707            1971        Graduation       Divorced   \n",
      "\n",
      "   annual_income        purhcase_date  recency  online_purchases  \\\n",
      "0        58138.0  2012-04-09 00:00:00       58                 8   \n",
      "1        46344.0  2014-08-03 00:00:00       38                 1   \n",
      "2        71613.0            8/21/2013       26                 8   \n",
      "3        26646.0  2014-10-02 00:00:00       26                 2   \n",
      "4        58293.0            1/19/2014       94                 5   \n",
      "5        62000.0  2013-09-09 00:00:00       16                 6   \n",
      "6        55635.0           11/13/2012       34                 7   \n",
      "\n",
      "   store_purchases  complaints  calls  intercoms  \n",
      "0                4           0      3         11  \n",
      "1                2           0      3         11  \n",
      "2               10           0      3         11  \n",
      "3                4           0      3         11  \n",
      "4                6           0      3         11  \n",
      "5               10           5      3         11  \n",
      "6                7           0      3         11  \n",
      "using iloc()\n",
      "    customer_id  year_of_birth  educational_level marital_status  \\\n",
      "0     20201701            1982        Graduation         Single   \n",
      "1     20201702            1950        Graduation        Married   \n",
      "2     20201703            1965        Graduation       Divorced   \n",
      "3     20201704            1984        Graduation   Relationship   \n",
      "4     20201705            1981               PhD        Widowed   \n",
      "5     20201706            1967            Master   Relationship   \n",
      "6     20201707            1971        Graduation       Divorced   \n",
      "\n",
      "   annual_income        purhcase_date  recency  online_purchases  \\\n",
      "0        58138.0  2012-04-09 00:00:00       58                 8   \n",
      "1        46344.0  2014-08-03 00:00:00       38                 1   \n",
      "2        71613.0            8/21/2013       26                 8   \n",
      "3        26646.0  2014-10-02 00:00:00       26                 2   \n",
      "4        58293.0            1/19/2014       94                 5   \n",
      "5        62000.0  2013-09-09 00:00:00       16                 6   \n",
      "6        55635.0           11/13/2012       34                 7   \n",
      "\n",
      "   store_purchases  complaints  calls  intercoms  \n",
      "0                4           0      3         11  \n",
      "1                2           0      3         11  \n",
      "2               10           0      3         11  \n",
      "3                4           0      3         11  \n",
      "4                6           0      3         11  \n",
      "5               10           5      3         11  \n",
      "6                7           0      3         11  \n"
     ]
    }
   ],
   "source": [
    "print(\"using loc()\\n\",df.loc[:6,list(df.columns)]) #specify the rows and columns as labels\n",
    "print(\"using iloc()\\n\",df.iloc[:7,[x for x in range(len(df.columns))]])#specify integer locations of columns"
   ]
  },
  {
   "cell_type": "markdown",
   "id": "ef093e43",
   "metadata": {},
   "source": [
    "3.d.In our data, that satisfies two conditions such as choosing the customers with an income higher than 75,000 and with a master’s degree(using python operators) and display the output."
   ]
  },
  {
   "cell_type": "code",
   "execution_count": 116,
   "id": "25448238",
   "metadata": {
    "collapsed": true
   },
   "outputs": [
    {
     "data": {
      "text/html": [
       "<div>\n",
       "<style scoped>\n",
       "    .dataframe tbody tr th:only-of-type {\n",
       "        vertical-align: middle;\n",
       "    }\n",
       "\n",
       "    .dataframe tbody tr th {\n",
       "        vertical-align: top;\n",
       "    }\n",
       "\n",
       "    .dataframe thead th {\n",
       "        text-align: right;\n",
       "    }\n",
       "</style>\n",
       "<table border=\"1\" class=\"dataframe\">\n",
       "  <thead>\n",
       "    <tr style=\"text-align: right;\">\n",
       "      <th></th>\n",
       "      <th>customer_id</th>\n",
       "      <th>year_of_birth</th>\n",
       "      <th>educational_level</th>\n",
       "      <th>marital_status</th>\n",
       "      <th>annual_income</th>\n",
       "      <th>purhcase_date</th>\n",
       "      <th>recency</th>\n",
       "      <th>online_purchases</th>\n",
       "      <th>store_purchases</th>\n",
       "      <th>complaints</th>\n",
       "      <th>calls</th>\n",
       "      <th>intercoms</th>\n",
       "    </tr>\n",
       "  </thead>\n",
       "  <tbody>\n",
       "    <tr>\n",
       "      <th>18</th>\n",
       "      <td>20201719</td>\n",
       "      <td>1980</td>\n",
       "      <td>Master</td>\n",
       "      <td>Single</td>\n",
       "      <td>76995.0</td>\n",
       "      <td>3/28/2013</td>\n",
       "      <td>91</td>\n",
       "      <td>11</td>\n",
       "      <td>9</td>\n",
       "      <td>4</td>\n",
       "      <td>3</td>\n",
       "      <td>11</td>\n",
       "    </tr>\n",
       "    <tr>\n",
       "      <th>51</th>\n",
       "      <td>20201752</td>\n",
       "      <td>1964</td>\n",
       "      <td>Master</td>\n",
       "      <td>Single</td>\n",
       "      <td>79143.0</td>\n",
       "      <td>2012-11-08 00:00:00</td>\n",
       "      <td>2</td>\n",
       "      <td>6</td>\n",
       "      <td>13</td>\n",
       "      <td>0</td>\n",
       "      <td>3</td>\n",
       "      <td>11</td>\n",
       "    </tr>\n",
       "    <tr>\n",
       "      <th>55</th>\n",
       "      <td>20201756</td>\n",
       "      <td>1955</td>\n",
       "      <td>Master</td>\n",
       "      <td>Married</td>\n",
       "      <td>82384.0</td>\n",
       "      <td>11/19/2012</td>\n",
       "      <td>55</td>\n",
       "      <td>3</td>\n",
       "      <td>13</td>\n",
       "      <td>0</td>\n",
       "      <td>3</td>\n",
       "      <td>11</td>\n",
       "    </tr>\n",
       "    <tr>\n",
       "      <th>60</th>\n",
       "      <td>20201761</td>\n",
       "      <td>1982</td>\n",
       "      <td>Master</td>\n",
       "      <td>Single</td>\n",
       "      <td>75777.0</td>\n",
       "      <td>2013-04-07 00:00:00</td>\n",
       "      <td>12</td>\n",
       "      <td>3</td>\n",
       "      <td>11</td>\n",
       "      <td>0</td>\n",
       "      <td>3</td>\n",
       "      <td>11</td>\n",
       "    </tr>\n",
       "    <tr>\n",
       "      <th>76</th>\n",
       "      <td>20201777</td>\n",
       "      <td>1993</td>\n",
       "      <td>Master</td>\n",
       "      <td>Married</td>\n",
       "      <td>75251.0</td>\n",
       "      <td>8/27/2012</td>\n",
       "      <td>34</td>\n",
       "      <td>7</td>\n",
       "      <td>5</td>\n",
       "      <td>0</td>\n",
       "      <td>3</td>\n",
       "      <td>11</td>\n",
       "    </tr>\n",
       "    <tr>\n",
       "      <th>109</th>\n",
       "      <td>20201810</td>\n",
       "      <td>1993</td>\n",
       "      <td>Master</td>\n",
       "      <td>Single</td>\n",
       "      <td>89058.0</td>\n",
       "      <td>2012-07-12 00:00:00</td>\n",
       "      <td>18</td>\n",
       "      <td>5</td>\n",
       "      <td>4</td>\n",
       "      <td>0</td>\n",
       "      <td>3</td>\n",
       "      <td>7</td>\n",
       "    </tr>\n",
       "    <tr>\n",
       "      <th>120</th>\n",
       "      <td>20201821</td>\n",
       "      <td>1957</td>\n",
       "      <td>Master</td>\n",
       "      <td>Relationship</td>\n",
       "      <td>88193.0</td>\n",
       "      <td>6/20/2013</td>\n",
       "      <td>65</td>\n",
       "      <td>6</td>\n",
       "      <td>10</td>\n",
       "      <td>0</td>\n",
       "      <td>5</td>\n",
       "      <td>11</td>\n",
       "    </tr>\n",
       "    <tr>\n",
       "      <th>140</th>\n",
       "      <td>20201841</td>\n",
       "      <td>1987</td>\n",
       "      <td>Master</td>\n",
       "      <td>Single</td>\n",
       "      <td>92859.0</td>\n",
       "      <td>10/19/2012</td>\n",
       "      <td>46</td>\n",
       "      <td>5</td>\n",
       "      <td>12</td>\n",
       "      <td>0</td>\n",
       "      <td>3</td>\n",
       "      <td>2</td>\n",
       "    </tr>\n",
       "    <tr>\n",
       "      <th>217</th>\n",
       "      <td>20201918</td>\n",
       "      <td>1985</td>\n",
       "      <td>Master</td>\n",
       "      <td>Widowed</td>\n",
       "      <td>83790.0</td>\n",
       "      <td>11/15/2013</td>\n",
       "      <td>81</td>\n",
       "      <td>8</td>\n",
       "      <td>6</td>\n",
       "      <td>0</td>\n",
       "      <td>3</td>\n",
       "      <td>11</td>\n",
       "    </tr>\n",
       "    <tr>\n",
       "      <th>277</th>\n",
       "      <td>20201978</td>\n",
       "      <td>1981</td>\n",
       "      <td>Master</td>\n",
       "      <td>Single</td>\n",
       "      <td>77882.0</td>\n",
       "      <td>4/30/2014</td>\n",
       "      <td>29</td>\n",
       "      <td>3</td>\n",
       "      <td>5</td>\n",
       "      <td>0</td>\n",
       "      <td>3</td>\n",
       "      <td>11</td>\n",
       "    </tr>\n",
       "    <tr>\n",
       "      <th>305</th>\n",
       "      <td>20202006</td>\n",
       "      <td>1983</td>\n",
       "      <td>Master</td>\n",
       "      <td>Widowed</td>\n",
       "      <td>80950.0</td>\n",
       "      <td>3/28/2013</td>\n",
       "      <td>44</td>\n",
       "      <td>6</td>\n",
       "      <td>9</td>\n",
       "      <td>0</td>\n",
       "      <td>3</td>\n",
       "      <td>11</td>\n",
       "    </tr>\n",
       "    <tr>\n",
       "      <th>423</th>\n",
       "      <td>20202124</td>\n",
       "      <td>1973</td>\n",
       "      <td>Master</td>\n",
       "      <td>Relationship</td>\n",
       "      <td>82584.0</td>\n",
       "      <td>2013-04-06 00:00:00</td>\n",
       "      <td>26</td>\n",
       "      <td>3</td>\n",
       "      <td>8</td>\n",
       "      <td>0</td>\n",
       "      <td>3</td>\n",
       "      <td>11</td>\n",
       "    </tr>\n",
       "    <tr>\n",
       "      <th>435</th>\n",
       "      <td>20202136</td>\n",
       "      <td>1983</td>\n",
       "      <td>Master</td>\n",
       "      <td>Relationship</td>\n",
       "      <td>82634.0</td>\n",
       "      <td>6/21/2013</td>\n",
       "      <td>49</td>\n",
       "      <td>1</td>\n",
       "      <td>3</td>\n",
       "      <td>0</td>\n",
       "      <td>0</td>\n",
       "      <td>11</td>\n",
       "    </tr>\n",
       "  </tbody>\n",
       "</table>\n",
       "</div>"
      ],
      "text/plain": [
       "     customer_id  year_of_birth  educational_level marital_status  \\\n",
       "18      20201719            1980            Master         Single   \n",
       "51      20201752            1964            Master         Single   \n",
       "55      20201756            1955            Master        Married   \n",
       "60      20201761            1982            Master         Single   \n",
       "76      20201777            1993            Master        Married   \n",
       "109     20201810            1993            Master         Single   \n",
       "120     20201821            1957            Master   Relationship   \n",
       "140     20201841            1987            Master         Single   \n",
       "217     20201918            1985            Master        Widowed   \n",
       "277     20201978            1981            Master         Single   \n",
       "305     20202006            1983            Master        Widowed   \n",
       "423     20202124            1973            Master   Relationship   \n",
       "435     20202136            1983            Master   Relationship   \n",
       "\n",
       "     annual_income        purhcase_date  recency  online_purchases  \\\n",
       "18         76995.0            3/28/2013       91                11   \n",
       "51         79143.0  2012-11-08 00:00:00        2                 6   \n",
       "55         82384.0           11/19/2012       55                 3   \n",
       "60         75777.0  2013-04-07 00:00:00       12                 3   \n",
       "76         75251.0            8/27/2012       34                 7   \n",
       "109        89058.0  2012-07-12 00:00:00       18                 5   \n",
       "120        88193.0            6/20/2013       65                 6   \n",
       "140        92859.0           10/19/2012       46                 5   \n",
       "217        83790.0           11/15/2013       81                 8   \n",
       "277        77882.0            4/30/2014       29                 3   \n",
       "305        80950.0            3/28/2013       44                 6   \n",
       "423        82584.0  2013-04-06 00:00:00       26                 3   \n",
       "435        82634.0            6/21/2013       49                 1   \n",
       "\n",
       "     store_purchases  complaints  calls  intercoms  \n",
       "18                 9           4      3         11  \n",
       "51                13           0      3         11  \n",
       "55                13           0      3         11  \n",
       "60                11           0      3         11  \n",
       "76                 5           0      3         11  \n",
       "109                4           0      3          7  \n",
       "120               10           0      5         11  \n",
       "140               12           0      3          2  \n",
       "217                6           0      3         11  \n",
       "277                5           0      3         11  \n",
       "305                9           0      3         11  \n",
       "423                8           0      3         11  \n",
       "435                3           0      0         11  "
      ]
     },
     "execution_count": 116,
     "metadata": {},
     "output_type": "execute_result"
    }
   ],
   "source": [
    "df.iloc[list((df.annual_income > 75000) & (df.educational_level == 'Master')),  :,]"
   ]
  },
  {
   "cell_type": "markdown",
   "id": "e502f821",
   "metadata": {},
   "source": [
    "# IV.Apply various data operation tools such as creating new variables or changing data types We can apply different operations on the dataset using Pandas such as"
   ]
  },
  {
   "cell_type": "markdown",
   "id": "7998b29a",
   "metadata": {},
   "source": [
    "4.a.setting a new index with the variable of our interest using the .set_index() method"
   ]
  },
  {
   "cell_type": "code",
   "execution_count": 138,
   "id": "69d4c411",
   "metadata": {
    "collapsed": true
   },
   "outputs": [
    {
     "name": "stdout",
     "output_type": "stream",
     "text": [
      "     customer_id  year_of_birth  educational_level marital_status  \\\n",
      "0       20201701            1982        Graduation         Single   \n",
      "1       20201702            1950        Graduation        Married   \n",
      "2       20201703            1965        Graduation       Divorced   \n",
      "3       20201704            1984        Graduation   Relationship   \n",
      "4       20201705            1981               PhD        Widowed   \n",
      "..           ...             ...               ...            ...   \n",
      "494     20202195            1944               PhD       Divorced   \n",
      "495     20202196            1962            Master       Divorced   \n",
      "496     20202197            1978        Graduation       Divorced   \n",
      "497     20202198            1971               PhD   Relationship   \n",
      "498     20202199            1949               PhD   Relationship   \n",
      "\n",
      "     annual_income        purhcase_date  recency  online_purchases  \\\n",
      "0          58138.0  2012-04-09 00:00:00       58                 8   \n",
      "1          46344.0  2014-08-03 00:00:00       38                 1   \n",
      "2          71613.0            8/21/2013       26                 8   \n",
      "3          26646.0  2014-10-02 00:00:00       26                 2   \n",
      "4          58293.0            1/19/2014       94                 5   \n",
      "..             ...                  ...      ...               ...   \n",
      "494        55614.0           11/27/2013       85                 9   \n",
      "495        59432.0            4/13/2013       88                 5   \n",
      "496        55563.0  2014-05-04 00:00:00       22                 2   \n",
      "497        43624.0            4/21/2013       83                 4   \n",
      "498        41461.0            5/22/2014       63                 6   \n",
      "\n",
      "     store_purchases  complaints  calls  intercoms  \n",
      "0                  4           0      3         11  \n",
      "1                  2           0      3         11  \n",
      "2                 10           0      3         11  \n",
      "3                  4           0      3         11  \n",
      "4                  6           0      3         11  \n",
      "..               ...         ...    ...        ...  \n",
      "494                6           0      3         11  \n",
      "495               11           0      3         11  \n",
      "496                3           0      3         11  \n",
      "497                4           0      6         11  \n",
      "498               11           0      6         11  \n",
      "\n",
      "[499 rows x 12 columns]\n"
     ]
    }
   ],
   "source": [
    "df.set_index('customer_id')\n",
    "print(df)"
   ]
  },
  {
   "cell_type": "markdown",
   "id": "da81ad56",
   "metadata": {},
   "source": [
    "4.b.sorting the data frame by one of the variable using .sort_values() with ascending or descending order; "
   ]
  },
  {
   "cell_type": "code",
   "execution_count": 140,
   "id": "2eac0a27",
   "metadata": {
    "collapsed": true
   },
   "outputs": [
    {
     "data": {
      "text/html": [
       "<div>\n",
       "<style scoped>\n",
       "    .dataframe tbody tr th:only-of-type {\n",
       "        vertical-align: middle;\n",
       "    }\n",
       "\n",
       "    .dataframe tbody tr th {\n",
       "        vertical-align: top;\n",
       "    }\n",
       "\n",
       "    .dataframe thead th {\n",
       "        text-align: right;\n",
       "    }\n",
       "</style>\n",
       "<table border=\"1\" class=\"dataframe\">\n",
       "  <thead>\n",
       "    <tr style=\"text-align: right;\">\n",
       "      <th></th>\n",
       "      <th>customer_id</th>\n",
       "      <th>year_of_birth</th>\n",
       "      <th>educational_level</th>\n",
       "      <th>marital_status</th>\n",
       "      <th>annual_income</th>\n",
       "      <th>purhcase_date</th>\n",
       "      <th>recency</th>\n",
       "      <th>online_purchases</th>\n",
       "      <th>store_purchases</th>\n",
       "      <th>complaints</th>\n",
       "      <th>calls</th>\n",
       "      <th>intercoms</th>\n",
       "    </tr>\n",
       "  </thead>\n",
       "  <tbody>\n",
       "    <tr>\n",
       "      <th>339</th>\n",
       "      <td>20202040</td>\n",
       "      <td>1899</td>\n",
       "      <td>PhD</td>\n",
       "      <td>Single</td>\n",
       "      <td>83532.0</td>\n",
       "      <td>9/26/2013</td>\n",
       "      <td>36</td>\n",
       "      <td>4</td>\n",
       "      <td>4</td>\n",
       "      <td>0</td>\n",
       "      <td>3</td>\n",
       "      <td>11</td>\n",
       "    </tr>\n",
       "    <tr>\n",
       "      <th>32</th>\n",
       "      <td>20201733</td>\n",
       "      <td>1940</td>\n",
       "      <td>Graduation</td>\n",
       "      <td>Married</td>\n",
       "      <td>40548.0</td>\n",
       "      <td>2012-10-10 00:00:00</td>\n",
       "      <td>31</td>\n",
       "      <td>2</td>\n",
       "      <td>4</td>\n",
       "      <td>0</td>\n",
       "      <td>3</td>\n",
       "      <td>11</td>\n",
       "    </tr>\n",
       "    <tr>\n",
       "      <th>358</th>\n",
       "      <td>20202059</td>\n",
       "      <td>1943</td>\n",
       "      <td>Master</td>\n",
       "      <td>Married</td>\n",
       "      <td>65073.0</td>\n",
       "      <td>8/20/2013</td>\n",
       "      <td>65</td>\n",
       "      <td>5</td>\n",
       "      <td>5</td>\n",
       "      <td>1</td>\n",
       "      <td>3</td>\n",
       "      <td>11</td>\n",
       "    </tr>\n",
       "    <tr>\n",
       "      <th>39</th>\n",
       "      <td>20201740</td>\n",
       "      <td>1943</td>\n",
       "      <td>PhD</td>\n",
       "      <td>Divorced</td>\n",
       "      <td>48948.0</td>\n",
       "      <td>2013-01-02 00:00:00</td>\n",
       "      <td>53</td>\n",
       "      <td>7</td>\n",
       "      <td>5</td>\n",
       "      <td>0</td>\n",
       "      <td>3</td>\n",
       "      <td>11</td>\n",
       "    </tr>\n",
       "    <tr>\n",
       "      <th>494</th>\n",
       "      <td>20202195</td>\n",
       "      <td>1944</td>\n",
       "      <td>PhD</td>\n",
       "      <td>Divorced</td>\n",
       "      <td>55614.0</td>\n",
       "      <td>11/27/2013</td>\n",
       "      <td>85</td>\n",
       "      <td>9</td>\n",
       "      <td>6</td>\n",
       "      <td>0</td>\n",
       "      <td>3</td>\n",
       "      <td>11</td>\n",
       "    </tr>\n",
       "    <tr>\n",
       "      <th>...</th>\n",
       "      <td>...</td>\n",
       "      <td>...</td>\n",
       "      <td>...</td>\n",
       "      <td>...</td>\n",
       "      <td>...</td>\n",
       "      <td>...</td>\n",
       "      <td>...</td>\n",
       "      <td>...</td>\n",
       "      <td>...</td>\n",
       "      <td>...</td>\n",
       "      <td>...</td>\n",
       "      <td>...</td>\n",
       "    </tr>\n",
       "    <tr>\n",
       "      <th>16</th>\n",
       "      <td>20201717</td>\n",
       "      <td>2000</td>\n",
       "      <td>Graduation</td>\n",
       "      <td>Married</td>\n",
       "      <td>41850.0</td>\n",
       "      <td>12/24/2012</td>\n",
       "      <td>51</td>\n",
       "      <td>3</td>\n",
       "      <td>3</td>\n",
       "      <td>7</td>\n",
       "      <td>3</td>\n",
       "      <td>11</td>\n",
       "    </tr>\n",
       "    <tr>\n",
       "      <th>418</th>\n",
       "      <td>20202119</td>\n",
       "      <td>2000</td>\n",
       "      <td>Graduation</td>\n",
       "      <td>Single</td>\n",
       "      <td>91065.0</td>\n",
       "      <td>2/22/2013</td>\n",
       "      <td>33</td>\n",
       "      <td>7</td>\n",
       "      <td>9</td>\n",
       "      <td>0</td>\n",
       "      <td>3</td>\n",
       "      <td>11</td>\n",
       "    </tr>\n",
       "    <tr>\n",
       "      <th>116</th>\n",
       "      <td>20201817</td>\n",
       "      <td>2000</td>\n",
       "      <td>Graduation</td>\n",
       "      <td>Relationship</td>\n",
       "      <td>90765.0</td>\n",
       "      <td>1/24/2014</td>\n",
       "      <td>25</td>\n",
       "      <td>4</td>\n",
       "      <td>5</td>\n",
       "      <td>0</td>\n",
       "      <td>3</td>\n",
       "      <td>11</td>\n",
       "    </tr>\n",
       "    <tr>\n",
       "      <th>185</th>\n",
       "      <td>20201886</td>\n",
       "      <td>2000</td>\n",
       "      <td>Graduation</td>\n",
       "      <td>Single</td>\n",
       "      <td>25271.0</td>\n",
       "      <td>2012-05-12 00:00:00</td>\n",
       "      <td>45</td>\n",
       "      <td>1</td>\n",
       "      <td>2</td>\n",
       "      <td>0</td>\n",
       "      <td>3</td>\n",
       "      <td>11</td>\n",
       "    </tr>\n",
       "    <tr>\n",
       "      <th>452</th>\n",
       "      <td>20202153</td>\n",
       "      <td>2000</td>\n",
       "      <td>Master</td>\n",
       "      <td>Single</td>\n",
       "      <td>36230.0</td>\n",
       "      <td>10/17/2013</td>\n",
       "      <td>17</td>\n",
       "      <td>2</td>\n",
       "      <td>4</td>\n",
       "      <td>0</td>\n",
       "      <td>3</td>\n",
       "      <td>11</td>\n",
       "    </tr>\n",
       "  </tbody>\n",
       "</table>\n",
       "<p>499 rows × 12 columns</p>\n",
       "</div>"
      ],
      "text/plain": [
       "     customer_id  year_of_birth  educational_level marital_status  \\\n",
       "339     20202040            1899               PhD         Single   \n",
       "32      20201733            1940        Graduation        Married   \n",
       "358     20202059            1943            Master        Married   \n",
       "39      20201740            1943               PhD       Divorced   \n",
       "494     20202195            1944               PhD       Divorced   \n",
       "..           ...             ...               ...            ...   \n",
       "16      20201717            2000        Graduation        Married   \n",
       "418     20202119            2000        Graduation         Single   \n",
       "116     20201817            2000        Graduation   Relationship   \n",
       "185     20201886            2000        Graduation         Single   \n",
       "452     20202153            2000            Master         Single   \n",
       "\n",
       "     annual_income        purhcase_date  recency  online_purchases  \\\n",
       "339        83532.0            9/26/2013       36                 4   \n",
       "32         40548.0  2012-10-10 00:00:00       31                 2   \n",
       "358        65073.0            8/20/2013       65                 5   \n",
       "39         48948.0  2013-01-02 00:00:00       53                 7   \n",
       "494        55614.0           11/27/2013       85                 9   \n",
       "..             ...                  ...      ...               ...   \n",
       "16         41850.0           12/24/2012       51                 3   \n",
       "418        91065.0            2/22/2013       33                 7   \n",
       "116        90765.0            1/24/2014       25                 4   \n",
       "185        25271.0  2012-05-12 00:00:00       45                 1   \n",
       "452        36230.0           10/17/2013       17                 2   \n",
       "\n",
       "     store_purchases  complaints  calls  intercoms  \n",
       "339                4           0      3         11  \n",
       "32                 4           0      3         11  \n",
       "358                5           1      3         11  \n",
       "39                 5           0      3         11  \n",
       "494                6           0      3         11  \n",
       "..               ...         ...    ...        ...  \n",
       "16                 3           7      3         11  \n",
       "418                9           0      3         11  \n",
       "116                5           0      3         11  \n",
       "185                2           0      3         11  \n",
       "452                4           0      3         11  \n",
       "\n",
       "[499 rows x 12 columns]"
      ]
     },
     "execution_count": 140,
     "metadata": {},
     "output_type": "execute_result"
    }
   ],
   "source": [
    "#sort the data by year_of_birth, ascending is default;\n",
    "df.sort_values(by = ['year_of_birth '], ascending = True) # if we want it in descending we should set ascending = False"
   ]
  },
  {
   "cell_type": "markdown",
   "id": "46a21f92",
   "metadata": {},
   "source": [
    "4.c.creating a new variable which could be the result of a mathematical operation such as sum of other variables"
   ]
  },
  {
   "cell_type": "code",
   "execution_count": 141,
   "id": "a2d5e90a",
   "metadata": {
    "collapsed": true
   },
   "outputs": [
    {
     "data": {
      "text/plain": [
       "0      12\n",
       "1       3\n",
       "2      18\n",
       "3       6\n",
       "4      11\n",
       "       ..\n",
       "494    15\n",
       "495    16\n",
       "496     5\n",
       "497     8\n",
       "498    17\n",
       "Name: sum_purchases, Length: 499, dtype: int64"
      ]
     },
     "execution_count": 141,
     "metadata": {},
     "output_type": "execute_result"
    }
   ],
   "source": [
    "#create a new variable which is the sum of all purchases performed by customers\n",
    "df['sum_purchases'] = df.online_purchases + df.store_purchases \n",
    "df['sum_purchases']"
   ]
  },
  {
   "cell_type": "markdown",
   "id": "4ee95e0e",
   "metadata": {},
   "source": [
    "4.d.changing the datatype of variables into datetime or integer types"
   ]
  },
  {
   "cell_type": "code",
   "execution_count": 163,
   "id": "5645ae10",
   "metadata": {
    "collapsed": true
   },
   "outputs": [
    {
     "name": "stdout",
     "output_type": "stream",
     "text": [
      "object int64\n",
      "datetime64[ns] int32\n"
     ]
    }
   ],
   "source": [
    "#we can change the datatype of purchase_date to datetime and year_birth to integer\n",
    "print(df['purhcase_date'].dtypes,df['year_of_birth '].dtypes)\n",
    "df['purhcase_date'] = pd.to_datetime(df['purhcase_date'])\n",
    "df['year_of_birth '] = df['year_of_birth '].astype(int)\n",
    "print(df['purhcase_date'].dtypes,df['year_of_birth '].dtypes)"
   ]
  },
  {
   "cell_type": "markdown",
   "id": "a5429668",
   "metadata": {},
   "source": [
    "4.e.determining the age based on year of birth"
   ]
  },
  {
   "cell_type": "code",
   "execution_count": 164,
   "id": "9c75223c",
   "metadata": {
    "collapsed": true
   },
   "outputs": [
    {
     "data": {
      "text/plain": [
       "0      41\n",
       "1      73\n",
       "2      58\n",
       "3      39\n",
       "4      42\n",
       "       ..\n",
       "494    79\n",
       "495    61\n",
       "496    45\n",
       "497    52\n",
       "498    74\n",
       "Name: Age, Length: 499, dtype: int32"
      ]
     },
     "execution_count": 164,
     "metadata": {},
     "output_type": "execute_result"
    }
   ],
   "source": [
    "#find out the age of customers based on the current year\n",
    "from datetime import date\n",
    "today = date.today()\n",
    "year = int(today.year)\n",
    "df['Age'] = year - df['year_of_birth ']\n",
    "df['Age']"
   ]
  },
  {
   "cell_type": "markdown",
   "id": "f715e159",
   "metadata": {},
   "source": [
    "4.f.creating the week date (calendar week and year) from the purchase date"
   ]
  },
  {
   "cell_type": "code",
   "execution_count": 169,
   "id": "cbc92d0c",
   "metadata": {
    "collapsed": true
   },
   "outputs": [
    {
     "data": {
      "text/plain": [
       "0      201215\n",
       "1      201431\n",
       "2      201334\n",
       "3      201440\n",
       "4       20143\n",
       "        ...  \n",
       "494    201348\n",
       "495    201315\n",
       "496    201418\n",
       "497    201316\n",
       "498    201421\n",
       "Name: week_date, Length: 499, dtype: int64"
      ]
     },
     "execution_count": 169,
     "metadata": {},
     "output_type": "execute_result"
    }
   ],
   "source": [
    "#extract the week_date from the purchase_date which shows the year of purchase and the calendar week\n",
    "#make sure to change the purhcase_date varibale to datetime as shown above before applying the .isocalendar() method\n",
    "df['week_date'] = [int(f'{i.isocalendar()[0]}{i.isocalendar()[1]}') for i in df.purhcase_date]\n",
    "df['week_date']"
   ]
  },
  {
   "cell_type": "markdown",
   "id": "a0296796",
   "metadata": {},
   "source": [
    "# V.\t perform data aggregation using group by and pivot table methods"
   ]
  },
  {
   "cell_type": "markdown",
   "id": "8d516940",
   "metadata": {},
   "source": [
    "5.a.To apply groupby()method to find the mean of income ,recency,number of web and store  purchases by educational group."
   ]
  },
  {
   "cell_type": "code",
   "execution_count": 168,
   "id": "24684c6e",
   "metadata": {
    "collapsed": true
   },
   "outputs": [
    {
     "data": {
      "text/html": [
       "<div>\n",
       "<style scoped>\n",
       "    .dataframe tbody tr th:only-of-type {\n",
       "        vertical-align: middle;\n",
       "    }\n",
       "\n",
       "    .dataframe tbody tr th {\n",
       "        vertical-align: top;\n",
       "    }\n",
       "\n",
       "    .dataframe thead th {\n",
       "        text-align: right;\n",
       "    }\n",
       "</style>\n",
       "<table border=\"1\" class=\"dataframe\">\n",
       "  <thead>\n",
       "    <tr style=\"text-align: right;\">\n",
       "      <th></th>\n",
       "      <th>educational_level</th>\n",
       "      <th>annual_income</th>\n",
       "      <th>recency</th>\n",
       "      <th>store_purchases</th>\n",
       "      <th>online_purchases</th>\n",
       "    </tr>\n",
       "  </thead>\n",
       "  <tbody>\n",
       "    <tr>\n",
       "      <th>0</th>\n",
       "      <td>Basic</td>\n",
       "      <td>19514.571429</td>\n",
       "      <td>53.571429</td>\n",
       "      <td>2.857143</td>\n",
       "      <td>1.571429</td>\n",
       "    </tr>\n",
       "    <tr>\n",
       "      <th>1</th>\n",
       "      <td>Graduation</td>\n",
       "      <td>51607.827309</td>\n",
       "      <td>47.171206</td>\n",
       "      <td>5.840467</td>\n",
       "      <td>3.887160</td>\n",
       "    </tr>\n",
       "    <tr>\n",
       "      <th>2</th>\n",
       "      <td>High School</td>\n",
       "      <td>44154.717949</td>\n",
       "      <td>58.400000</td>\n",
       "      <td>4.600000</td>\n",
       "      <td>3.450000</td>\n",
       "    </tr>\n",
       "    <tr>\n",
       "      <th>3</th>\n",
       "      <td>Master</td>\n",
       "      <td>51191.700000</td>\n",
       "      <td>45.000000</td>\n",
       "      <td>5.691358</td>\n",
       "      <td>4.049383</td>\n",
       "    </tr>\n",
       "    <tr>\n",
       "      <th>4</th>\n",
       "      <td>PhD</td>\n",
       "      <td>55878.990991</td>\n",
       "      <td>49.008772</td>\n",
       "      <td>6.298246</td>\n",
       "      <td>4.429825</td>\n",
       "    </tr>\n",
       "  </tbody>\n",
       "</table>\n",
       "</div>"
      ],
      "text/plain": [
       "  educational_level  annual_income    recency  store_purchases  \\\n",
       "0             Basic   19514.571429  53.571429         2.857143   \n",
       "1        Graduation   51607.827309  47.171206         5.840467   \n",
       "2       High School   44154.717949  58.400000         4.600000   \n",
       "3            Master   51191.700000  45.000000         5.691358   \n",
       "4               PhD   55878.990991  49.008772         6.298246   \n",
       "\n",
       "   online_purchases  \n",
       "0          1.571429  \n",
       "1          3.887160  \n",
       "2          3.450000  \n",
       "3          4.049383  \n",
       "4          4.429825  "
      ]
     },
     "execution_count": 168,
     "metadata": {},
     "output_type": "execute_result"
    }
   ],
   "source": [
    "#apply groupby to find the mean of income, recency, number of web and store purchases by educational group\n",
    "aggregate_view = pd.DataFrame(df.groupby(by='educational_level')[['annual_income', 'recency', 'store_purchases',  'online_purchases']].mean()).reset_index()\n",
    "aggregate_view"
   ]
  },
  {
   "cell_type": "markdown",
   "id": "991bb953",
   "metadata": {},
   "source": [
    "5.b.To apply pivot_table()method to find the aggregated sum of purchases  and mean of recency per education and marital status group."
   ]
  },
  {
   "cell_type": "code",
   "execution_count": 179,
   "id": "18bec3bd",
   "metadata": {},
   "outputs": [
    {
     "ename": "KeyError",
     "evalue": "'sum_purchases'",
     "output_type": "error",
     "traceback": [
      "\u001b[1;31m---------------------------------------------------------------------------\u001b[0m",
      "\u001b[1;31mKeyError\u001b[0m                                  Traceback (most recent call last)",
      "Cell \u001b[1;32mIn[179], line 2\u001b[0m\n\u001b[0;32m      1\u001b[0m \u001b[38;5;66;03m#apply pivot table to find the aggregated sum of purchases and mean of recency per education and marital status group\u001b[39;00m\n\u001b[1;32m----> 2\u001b[0m pivot_table \u001b[38;5;241m=\u001b[39m pd\u001b[38;5;241m.\u001b[39mDataFrame(pd\u001b[38;5;241m.\u001b[39mpivot_table(df, values\u001b[38;5;241m=\u001b[39m[\u001b[38;5;124m\"\u001b[39m\u001b[38;5;124msum_purchases\u001b[39m\u001b[38;5;124m\"\u001b[39m, \u001b[38;5;124m\"\u001b[39m\u001b[38;5;124mrecency\u001b[39m\u001b[38;5;124m\"\u001b[39m], index\u001b[38;5;241m=\u001b[39m[\u001b[38;5;124m'\u001b[39m\u001b[38;5;124mmarital_status\u001b[39m\u001b[38;5;124m'\u001b[39m],columns\u001b[38;5;241m=\u001b[39m[\u001b[38;5;124m'\u001b[39m\u001b[38;5;124meducational_level\u001b[39m\u001b[38;5;124m'\u001b[39m], aggfunc\u001b[38;5;241m=\u001b[39m{\u001b[38;5;124m'\u001b[39m\u001b[38;5;124mrecency\u001b[39m\u001b[38;5;124m'\u001b[39m: np\u001b[38;5;241m.\u001b[39mmean, \u001b[38;5;124m'\u001b[39m\u001b[38;5;124msum_purchases\u001b[39m\u001b[38;5;124m'\u001b[39m: np\u001b[38;5;241m.\u001b[39msum}, fill_value\u001b[38;5;241m=\u001b[39m\u001b[38;5;241m0\u001b[39m))\u001b[38;5;241m.\u001b[39mreset_index()\n\u001b[0;32m      3\u001b[0m pivot_table\n",
      "File \u001b[1;32mD:\\ANACONDA\\Lib\\site-packages\\pandas\\core\\reshape\\pivot.py:97\u001b[0m, in \u001b[0;36mpivot_table\u001b[1;34m(data, values, index, columns, aggfunc, fill_value, margins, dropna, margins_name, observed, sort)\u001b[0m\n\u001b[0;32m     94\u001b[0m     table \u001b[38;5;241m=\u001b[39m concat(pieces, keys\u001b[38;5;241m=\u001b[39mkeys, axis\u001b[38;5;241m=\u001b[39m\u001b[38;5;241m1\u001b[39m)\n\u001b[0;32m     95\u001b[0m     \u001b[38;5;28;01mreturn\u001b[39;00m table\u001b[38;5;241m.\u001b[39m__finalize__(data, method\u001b[38;5;241m=\u001b[39m\u001b[38;5;124m\"\u001b[39m\u001b[38;5;124mpivot_table\u001b[39m\u001b[38;5;124m\"\u001b[39m)\n\u001b[1;32m---> 97\u001b[0m table \u001b[38;5;241m=\u001b[39m __internal_pivot_table(\n\u001b[0;32m     98\u001b[0m     data,\n\u001b[0;32m     99\u001b[0m     values,\n\u001b[0;32m    100\u001b[0m     index,\n\u001b[0;32m    101\u001b[0m     columns,\n\u001b[0;32m    102\u001b[0m     aggfunc,\n\u001b[0;32m    103\u001b[0m     fill_value,\n\u001b[0;32m    104\u001b[0m     margins,\n\u001b[0;32m    105\u001b[0m     dropna,\n\u001b[0;32m    106\u001b[0m     margins_name,\n\u001b[0;32m    107\u001b[0m     observed,\n\u001b[0;32m    108\u001b[0m     sort,\n\u001b[0;32m    109\u001b[0m )\n\u001b[0;32m    110\u001b[0m \u001b[38;5;28;01mreturn\u001b[39;00m table\u001b[38;5;241m.\u001b[39m__finalize__(data, method\u001b[38;5;241m=\u001b[39m\u001b[38;5;124m\"\u001b[39m\u001b[38;5;124mpivot_table\u001b[39m\u001b[38;5;124m\"\u001b[39m)\n",
      "File \u001b[1;32mD:\\ANACONDA\\Lib\\site-packages\\pandas\\core\\reshape\\pivot.py:143\u001b[0m, in \u001b[0;36m__internal_pivot_table\u001b[1;34m(data, values, index, columns, aggfunc, fill_value, margins, dropna, margins_name, observed, sort)\u001b[0m\n\u001b[0;32m    141\u001b[0m \u001b[38;5;28;01mfor\u001b[39;00m i \u001b[38;5;129;01min\u001b[39;00m values:\n\u001b[0;32m    142\u001b[0m     \u001b[38;5;28;01mif\u001b[39;00m i \u001b[38;5;129;01mnot\u001b[39;00m \u001b[38;5;129;01min\u001b[39;00m data:\n\u001b[1;32m--> 143\u001b[0m         \u001b[38;5;28;01mraise\u001b[39;00m \u001b[38;5;167;01mKeyError\u001b[39;00m(i)\n\u001b[0;32m    145\u001b[0m to_filter \u001b[38;5;241m=\u001b[39m []\n\u001b[0;32m    146\u001b[0m \u001b[38;5;28;01mfor\u001b[39;00m x \u001b[38;5;129;01min\u001b[39;00m keys \u001b[38;5;241m+\u001b[39m values:\n",
      "\u001b[1;31mKeyError\u001b[0m: 'sum_purchases'"
     ]
    }
   ],
   "source": [
    "#apply pivot table to find the aggregated sum of purchases and mean of recency per education and marital status group\n",
    "pivot_table = pd.DataFrame(pd.pivot_table(df, values=[\"sum_purchases\", \"recency\"], index=['marital_status'],columns=['educational_level'], aggfunc={'recency': np.mean, 'sum_purchases': np.sum}, fill_value=0)).reset_index()\n",
    "pivot_table"
   ]
  }
 ],
 "metadata": {
  "kernelspec": {
   "display_name": "Python 3 (ipykernel)",
   "language": "python",
   "name": "python3"
  },
  "language_info": {
   "codemirror_mode": {
    "name": "ipython",
    "version": 3
   },
   "file_extension": ".py",
   "mimetype": "text/x-python",
   "name": "python",
   "nbconvert_exporter": "python",
   "pygments_lexer": "ipython3",
   "version": "3.11.5"
  }
 },
 "nbformat": 4,
 "nbformat_minor": 5
}
